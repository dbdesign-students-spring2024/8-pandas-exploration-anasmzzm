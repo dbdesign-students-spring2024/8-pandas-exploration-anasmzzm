{
 "cells": [
  {
   "cell_type": "markdown",
   "metadata": {},
   "source": [
    "# pandas exploration\n",
    "In this assignment you will select a data set and do some munging and analysis of it using `pandas`, Jupyter Notebooks, and associated Python-centric data science tools."
   ]
  },
  {
   "cell_type": "markdown",
   "metadata": {},
   "source": [
    "## Set up environment"
   ]
  },
  {
   "cell_type": "markdown",
   "metadata": {},
   "source": [
    "The following lines ensure that `numpy` and `pandas` are installed in the notebook environment.  Depending on your system, this may not be necessary and may be removed."
   ]
  },
  {
   "cell_type": "code",
   "execution_count": 155,
   "metadata": {},
   "outputs": [
    {
     "name": "stdout",
     "output_type": "stream",
     "text": [
      "Requirement already satisfied: numpy in c:\\users\\moazz\\anaconda3\\lib\\site-packages (1.22.4)\n",
      "Requirement already satisfied: pandas in c:\\users\\moazz\\anaconda3\\lib\\site-packages (1.4.2)\n",
      "Requirement already satisfied: numpy>=1.18.5 in c:\\users\\moazz\\anaconda3\\lib\\site-packages (from pandas) (1.22.4)\n",
      "Requirement already satisfied: pytz>=2020.1 in c:\\users\\moazz\\anaconda3\\lib\\site-packages (from pandas) (2021.3)\n",
      "Requirement already satisfied: python-dateutil>=2.8.1 in c:\\users\\moazz\\anaconda3\\lib\\site-packages (from pandas) (2.8.2)\n",
      "Requirement already satisfied: six>=1.5 in c:\\users\\moazz\\anaconda3\\lib\\site-packages (from python-dateutil>=2.8.1->pandas) (1.16.0)\n"
     ]
    }
   ],
   "source": [
    "!pip install numpy\n",
    "!pip install pandas"
   ]
  },
  {
   "cell_type": "markdown",
   "metadata": {},
   "source": [
    "Import the core data science libraries:"
   ]
  },
  {
   "cell_type": "code",
   "execution_count": 156,
   "metadata": {},
   "outputs": [],
   "source": [
    "%matplotlib inline\n",
    "import matplotlib.pyplot as plt\n",
    "import numpy as np\n",
    "import pandas as pd\n",
    "import seaborn as sns"
   ]
  },
  {
   "cell_type": "markdown",
   "metadata": {},
   "source": [
    "## Import the raw data\n",
    "In this section, you will import the raw data into a `pandas` DataFrame."
   ]
  },
  {
   "cell_type": "code",
   "execution_count": 157,
   "metadata": {},
   "outputs": [],
   "source": [
    "df = pd.read_csv('2023_picks.csv')"
   ]
  },
  {
   "cell_type": "markdown",
   "metadata": {},
   "source": [
    "## Data inspection\n",
    "In this section, you will show enough of your data for a viewer to get a general sense of how the data is structured and any unique features of it.  Complete each of the indicated tasks in a Code cell, making sure to include a Markdown cell above each Code cell that explains what is being shown by the code.  \n",
    "- Show 5 rows, selected at random, from the data set.\n",
    "- Show each of the column names and their data types.\n",
    "- Show any unique features of your chosen data set.\n",
    "\n",
    "Feel free to add as many additional cells as you need to help explain the raw data."
   ]
  },
  {
   "cell_type": "code",
   "execution_count": 158,
   "metadata": {},
   "outputs": [
    {
     "data": {
      "text/html": [
       "<div>\n",
       "<style scoped>\n",
       "    .dataframe tbody tr th:only-of-type {\n",
       "        vertical-align: middle;\n",
       "    }\n",
       "\n",
       "    .dataframe tbody tr th {\n",
       "        vertical-align: top;\n",
       "    }\n",
       "\n",
       "    .dataframe thead th {\n",
       "        text-align: right;\n",
       "    }\n",
       "</style>\n",
       "<table border=\"1\" class=\"dataframe\">\n",
       "  <thead>\n",
       "    <tr style=\"text-align: right;\">\n",
       "      <th></th>\n",
       "      <th>Unnamed: 0</th>\n",
       "      <th>Unnamed: 1</th>\n",
       "      <th>Unnamed: 2</th>\n",
       "      <th>Unnamed: 3</th>\n",
       "      <th>Unnamed: 4</th>\n",
       "      <th>Unnamed: 5</th>\n",
       "      <th>Unnamed: 6</th>\n",
       "      <th>Misc</th>\n",
       "      <th>Unnamed: 8</th>\n",
       "      <th>Unnamed: 9</th>\n",
       "      <th>...</th>\n",
       "      <th>Unnamed: 19</th>\n",
       "      <th>Unnamed: 20</th>\n",
       "      <th>Receiving</th>\n",
       "      <th>Unnamed: 22</th>\n",
       "      <th>Unnamed: 23</th>\n",
       "      <th>Unnamed: 24</th>\n",
       "      <th>Unnamed: 25</th>\n",
       "      <th>Unnamed: 26</th>\n",
       "      <th>Unnamed: 27</th>\n",
       "      <th>Unnamed: 28</th>\n",
       "    </tr>\n",
       "  </thead>\n",
       "  <tbody>\n",
       "    <tr>\n",
       "      <th>136</th>\n",
       "      <td>5</td>\n",
       "      <td>136</td>\n",
       "      <td>JAX</td>\n",
       "      <td>Yasir Abdullah</td>\n",
       "      <td>LB</td>\n",
       "      <td>23</td>\n",
       "      <td>2023</td>\n",
       "      <td>0</td>\n",
       "      <td>0</td>\n",
       "      <td>0</td>\n",
       "      <td>...</td>\n",
       "      <td>0</td>\n",
       "      <td>0</td>\n",
       "      <td>0</td>\n",
       "      <td>0</td>\n",
       "      <td>0</td>\n",
       "      <td>1</td>\n",
       "      <td>NaN</td>\n",
       "      <td>NaN</td>\n",
       "      <td>Louisville</td>\n",
       "      <td>College Stats</td>\n",
       "    </tr>\n",
       "    <tr>\n",
       "      <th>37</th>\n",
       "      <td>2</td>\n",
       "      <td>37</td>\n",
       "      <td>SEA</td>\n",
       "      <td>Derick Hall</td>\n",
       "      <td>DE</td>\n",
       "      <td>22</td>\n",
       "      <td>2023</td>\n",
       "      <td>0</td>\n",
       "      <td>0</td>\n",
       "      <td>0</td>\n",
       "      <td>...</td>\n",
       "      <td>0</td>\n",
       "      <td>0</td>\n",
       "      <td>0</td>\n",
       "      <td>0</td>\n",
       "      <td>0</td>\n",
       "      <td>18</td>\n",
       "      <td>NaN</td>\n",
       "      <td>NaN</td>\n",
       "      <td>Auburn</td>\n",
       "      <td>College Stats</td>\n",
       "    </tr>\n",
       "    <tr>\n",
       "      <th>254</th>\n",
       "      <td>7</td>\n",
       "      <td>254</td>\n",
       "      <td>NYG</td>\n",
       "      <td>Gervarrius Owens</td>\n",
       "      <td>DB</td>\n",
       "      <td>23</td>\n",
       "      <td>2023</td>\n",
       "      <td>0</td>\n",
       "      <td>0</td>\n",
       "      <td>0</td>\n",
       "      <td>...</td>\n",
       "      <td>0</td>\n",
       "      <td>0</td>\n",
       "      <td>0</td>\n",
       "      <td>0</td>\n",
       "      <td>0</td>\n",
       "      <td>NaN</td>\n",
       "      <td>NaN</td>\n",
       "      <td>NaN</td>\n",
       "      <td>Houston</td>\n",
       "      <td>College Stats</td>\n",
       "    </tr>\n",
       "    <tr>\n",
       "      <th>53</th>\n",
       "      <td>2</td>\n",
       "      <td>53</td>\n",
       "      <td>CHI</td>\n",
       "      <td>Gervon Dexter</td>\n",
       "      <td>DL</td>\n",
       "      <td>21</td>\n",
       "      <td>2023</td>\n",
       "      <td>0</td>\n",
       "      <td>0</td>\n",
       "      <td>0</td>\n",
       "      <td>...</td>\n",
       "      <td>0</td>\n",
       "      <td>0</td>\n",
       "      <td>0</td>\n",
       "      <td>0</td>\n",
       "      <td>0</td>\n",
       "      <td>13</td>\n",
       "      <td>NaN</td>\n",
       "      <td>2.5</td>\n",
       "      <td>Florida</td>\n",
       "      <td>College Stats</td>\n",
       "    </tr>\n",
       "    <tr>\n",
       "      <th>81</th>\n",
       "      <td>3</td>\n",
       "      <td>81</td>\n",
       "      <td>TEN</td>\n",
       "      <td>Tyjae Spears</td>\n",
       "      <td>RB</td>\n",
       "      <td>22</td>\n",
       "      <td>2023</td>\n",
       "      <td>0</td>\n",
       "      <td>0</td>\n",
       "      <td>0</td>\n",
       "      <td>...</td>\n",
       "      <td>453</td>\n",
       "      <td>2</td>\n",
       "      <td>52</td>\n",
       "      <td>385</td>\n",
       "      <td>1</td>\n",
       "      <td>NaN</td>\n",
       "      <td>NaN</td>\n",
       "      <td>NaN</td>\n",
       "      <td>Tulane</td>\n",
       "      <td>College Stats</td>\n",
       "    </tr>\n",
       "  </tbody>\n",
       "</table>\n",
       "<p>5 rows × 29 columns</p>\n",
       "</div>"
      ],
      "text/plain": [
       "    Unnamed: 0 Unnamed: 1 Unnamed: 2        Unnamed: 3 Unnamed: 4 Unnamed: 5  \\\n",
       "136          5        136        JAX    Yasir Abdullah         LB         23   \n",
       "37           2         37        SEA       Derick Hall         DE         22   \n",
       "254          7        254        NYG  Gervarrius Owens         DB         23   \n",
       "53           2         53        CHI     Gervon Dexter         DL         21   \n",
       "81           3         81        TEN      Tyjae Spears         RB         22   \n",
       "\n",
       "    Unnamed: 6 Misc Unnamed: 8 Unnamed: 9  ... Unnamed: 19 Unnamed: 20  \\\n",
       "136       2023    0          0          0  ...           0           0   \n",
       "37        2023    0          0          0  ...           0           0   \n",
       "254       2023    0          0          0  ...           0           0   \n",
       "53        2023    0          0          0  ...           0           0   \n",
       "81        2023    0          0          0  ...         453           2   \n",
       "\n",
       "    Receiving Unnamed: 22 Unnamed: 23 Unnamed: 24 Unnamed: 25 Unnamed: 26  \\\n",
       "136         0           0           0           1         NaN         NaN   \n",
       "37          0           0           0          18         NaN         NaN   \n",
       "254         0           0           0         NaN         NaN         NaN   \n",
       "53          0           0           0          13         NaN         2.5   \n",
       "81         52         385           1         NaN         NaN         NaN   \n",
       "\n",
       "    Unnamed: 27    Unnamed: 28  \n",
       "136  Louisville  College Stats  \n",
       "37       Auburn  College Stats  \n",
       "254     Houston  College Stats  \n",
       "53      Florida  College Stats  \n",
       "81       Tulane  College Stats  \n",
       "\n",
       "[5 rows x 29 columns]"
      ]
     },
     "execution_count": 158,
     "metadata": {},
     "output_type": "execute_result"
    }
   ],
   "source": [
    "df.sample(5)"
   ]
  },
  {
   "cell_type": "markdown",
   "metadata": {},
   "source": [
    "This dataset contains all the draft selections from the 2023 NFL draft. However, it seems as though the formatting has not been maintained properly."
   ]
  },
  {
   "cell_type": "code",
   "execution_count": 159,
   "metadata": {},
   "outputs": [
    {
     "data": {
      "text/html": [
       "<div>\n",
       "<style scoped>\n",
       "    .dataframe tbody tr th:only-of-type {\n",
       "        vertical-align: middle;\n",
       "    }\n",
       "\n",
       "    .dataframe tbody tr th {\n",
       "        vertical-align: top;\n",
       "    }\n",
       "\n",
       "    .dataframe thead th {\n",
       "        text-align: right;\n",
       "    }\n",
       "</style>\n",
       "<table border=\"1\" class=\"dataframe\">\n",
       "  <thead>\n",
       "    <tr style=\"text-align: right;\">\n",
       "      <th></th>\n",
       "      <th>Unnamed: 0</th>\n",
       "      <th>Unnamed: 1</th>\n",
       "      <th>Unnamed: 2</th>\n",
       "      <th>Unnamed: 3</th>\n",
       "      <th>Unnamed: 4</th>\n",
       "      <th>Unnamed: 5</th>\n",
       "      <th>Unnamed: 6</th>\n",
       "      <th>Misc</th>\n",
       "      <th>Unnamed: 8</th>\n",
       "      <th>Unnamed: 9</th>\n",
       "      <th>...</th>\n",
       "      <th>Unnamed: 19</th>\n",
       "      <th>Unnamed: 20</th>\n",
       "      <th>Receiving</th>\n",
       "      <th>Unnamed: 22</th>\n",
       "      <th>Unnamed: 23</th>\n",
       "      <th>Unnamed: 24</th>\n",
       "      <th>Unnamed: 25</th>\n",
       "      <th>Unnamed: 26</th>\n",
       "      <th>Unnamed: 27</th>\n",
       "      <th>Unnamed: 28</th>\n",
       "    </tr>\n",
       "  </thead>\n",
       "  <tbody>\n",
       "    <tr>\n",
       "      <th>0</th>\n",
       "      <td>Rnd</td>\n",
       "      <td>Pick</td>\n",
       "      <td>Tm</td>\n",
       "      <td>Player</td>\n",
       "      <td>Pos</td>\n",
       "      <td>Age</td>\n",
       "      <td>To</td>\n",
       "      <td>AP1</td>\n",
       "      <td>PB</td>\n",
       "      <td>St</td>\n",
       "      <td>...</td>\n",
       "      <td>Yds</td>\n",
       "      <td>TD</td>\n",
       "      <td>Rec</td>\n",
       "      <td>Yds</td>\n",
       "      <td>TD</td>\n",
       "      <td>Solo</td>\n",
       "      <td>Int</td>\n",
       "      <td>Sk</td>\n",
       "      <td>College/Univ</td>\n",
       "      <td>NaN</td>\n",
       "    </tr>\n",
       "    <tr>\n",
       "      <th>1</th>\n",
       "      <td>1</td>\n",
       "      <td>1</td>\n",
       "      <td>CAR</td>\n",
       "      <td>Bryce Young</td>\n",
       "      <td>QB</td>\n",
       "      <td>22</td>\n",
       "      <td>2023</td>\n",
       "      <td>0</td>\n",
       "      <td>0</td>\n",
       "      <td>0</td>\n",
       "      <td>...</td>\n",
       "      <td>253</td>\n",
       "      <td>0</td>\n",
       "      <td>0</td>\n",
       "      <td>0</td>\n",
       "      <td>0</td>\n",
       "      <td>NaN</td>\n",
       "      <td>NaN</td>\n",
       "      <td>NaN</td>\n",
       "      <td>Alabama</td>\n",
       "      <td>College Stats</td>\n",
       "    </tr>\n",
       "    <tr>\n",
       "      <th>2</th>\n",
       "      <td>1</td>\n",
       "      <td>2</td>\n",
       "      <td>HOU</td>\n",
       "      <td>C.J. Stroud</td>\n",
       "      <td>QB</td>\n",
       "      <td>21</td>\n",
       "      <td>2023</td>\n",
       "      <td>0</td>\n",
       "      <td>1</td>\n",
       "      <td>0</td>\n",
       "      <td>...</td>\n",
       "      <td>167</td>\n",
       "      <td>3</td>\n",
       "      <td>1</td>\n",
       "      <td>0</td>\n",
       "      <td>0</td>\n",
       "      <td>NaN</td>\n",
       "      <td>NaN</td>\n",
       "      <td>NaN</td>\n",
       "      <td>Ohio St.</td>\n",
       "      <td>College Stats</td>\n",
       "    </tr>\n",
       "    <tr>\n",
       "      <th>3</th>\n",
       "      <td>1</td>\n",
       "      <td>3</td>\n",
       "      <td>HOU</td>\n",
       "      <td>Will Anderson</td>\n",
       "      <td>LB</td>\n",
       "      <td>22</td>\n",
       "      <td>2023</td>\n",
       "      <td>0</td>\n",
       "      <td>1</td>\n",
       "      <td>0</td>\n",
       "      <td>...</td>\n",
       "      <td>0</td>\n",
       "      <td>0</td>\n",
       "      <td>0</td>\n",
       "      <td>0</td>\n",
       "      <td>0</td>\n",
       "      <td>29</td>\n",
       "      <td>NaN</td>\n",
       "      <td>7</td>\n",
       "      <td>Alabama</td>\n",
       "      <td>College Stats</td>\n",
       "    </tr>\n",
       "    <tr>\n",
       "      <th>4</th>\n",
       "      <td>1</td>\n",
       "      <td>4</td>\n",
       "      <td>IND</td>\n",
       "      <td>Anthony Richardson</td>\n",
       "      <td>QB</td>\n",
       "      <td>21</td>\n",
       "      <td>2023</td>\n",
       "      <td>0</td>\n",
       "      <td>0</td>\n",
       "      <td>0</td>\n",
       "      <td>...</td>\n",
       "      <td>136</td>\n",
       "      <td>4</td>\n",
       "      <td>0</td>\n",
       "      <td>0</td>\n",
       "      <td>0</td>\n",
       "      <td>NaN</td>\n",
       "      <td>NaN</td>\n",
       "      <td>NaN</td>\n",
       "      <td>Florida</td>\n",
       "      <td>College Stats</td>\n",
       "    </tr>\n",
       "  </tbody>\n",
       "</table>\n",
       "<p>5 rows × 29 columns</p>\n",
       "</div>"
      ],
      "text/plain": [
       "  Unnamed: 0 Unnamed: 1 Unnamed: 2          Unnamed: 3 Unnamed: 4 Unnamed: 5  \\\n",
       "0        Rnd       Pick         Tm              Player        Pos        Age   \n",
       "1          1          1        CAR         Bryce Young         QB         22   \n",
       "2          1          2        HOU         C.J. Stroud         QB         21   \n",
       "3          1          3        HOU       Will Anderson         LB         22   \n",
       "4          1          4        IND  Anthony Richardson         QB         21   \n",
       "\n",
       "  Unnamed: 6 Misc Unnamed: 8 Unnamed: 9  ... Unnamed: 19 Unnamed: 20  \\\n",
       "0         To  AP1         PB         St  ...         Yds          TD   \n",
       "1       2023    0          0          0  ...         253           0   \n",
       "2       2023    0          1          0  ...         167           3   \n",
       "3       2023    0          1          0  ...           0           0   \n",
       "4       2023    0          0          0  ...         136           4   \n",
       "\n",
       "  Receiving Unnamed: 22 Unnamed: 23 Unnamed: 24 Unnamed: 25 Unnamed: 26  \\\n",
       "0       Rec         Yds          TD        Solo         Int          Sk   \n",
       "1         0           0           0         NaN         NaN         NaN   \n",
       "2         1           0           0         NaN         NaN         NaN   \n",
       "3         0           0           0          29         NaN           7   \n",
       "4         0           0           0         NaN         NaN         NaN   \n",
       "\n",
       "    Unnamed: 27    Unnamed: 28  \n",
       "0  College/Univ            NaN  \n",
       "1       Alabama  College Stats  \n",
       "2      Ohio St.  College Stats  \n",
       "3       Alabama  College Stats  \n",
       "4       Florida  College Stats  \n",
       "\n",
       "[5 rows x 29 columns]"
      ]
     },
     "execution_count": 159,
     "metadata": {},
     "output_type": "execute_result"
    }
   ],
   "source": [
    "df.head(5)"
   ]
  },
  {
   "cell_type": "markdown",
   "metadata": {},
   "source": [
    "There were labels that identified offensive and defensive stats. These labels were percieved as the column labels so we have to fix this."
   ]
  },
  {
   "cell_type": "code",
   "execution_count": 160,
   "metadata": {},
   "outputs": [
    {
     "data": {
      "text/plain": [
       "Index(['Unnamed: 0', 'Unnamed: 1', 'Unnamed: 2', 'Unnamed: 3', 'Unnamed: 4',\n",
       "       'Unnamed: 5', 'Unnamed: 6', 'Misc', 'Unnamed: 8', 'Unnamed: 9',\n",
       "       'Approx Val', 'Unnamed: 11', 'Unnamed: 12', 'Passing', 'Unnamed: 14',\n",
       "       'Unnamed: 15', 'Unnamed: 16', 'Unnamed: 17', 'Rushing', 'Unnamed: 19',\n",
       "       'Unnamed: 20', 'Receiving', 'Unnamed: 22', 'Unnamed: 23', 'Unnamed: 24',\n",
       "       'Unnamed: 25', 'Unnamed: 26', 'Unnamed: 27', 'Unnamed: 28'],\n",
       "      dtype='object')"
      ]
     },
     "execution_count": 160,
     "metadata": {},
     "output_type": "execute_result"
    }
   ],
   "source": [
    "df.columns"
   ]
  },
  {
   "cell_type": "markdown",
   "metadata": {},
   "source": [
    "My dataset needs heavy data munging to get it to a useable state. After data munging, I will check the columns again."
   ]
  },
  {
   "cell_type": "markdown",
   "metadata": {},
   "source": [
    "## Data munging\n",
    "Place your **data munging** code and documentation within this section.  \n",
    "- Keep each of your Code cells short and focused on a single task.  \n",
    "- Include a Markdown cell above each code cell that describes what task the code within the code cell is performing.\n",
    "- Make as many code cells as you need to complete the munging - a few have been created for you to start with.\n",
    "- Display 5 sample rows of the modified data after each transformation so a viewer can see how the data has changed.\n",
    "\n",
    "**Note**: If you believe that your data set does not require any munging, please explain in detail.  Create Markdown cells that explain your thinking and create Code cells that show any specific structures of the data you refer to in your explanation."
   ]
  },
  {
   "cell_type": "markdown",
   "metadata": {},
   "source": [
    "The first order of business is to fix my column titles so that the data is easier to work with. I stored all the values of the first row, which contained the true column titles, in a variable called column_names. I edited my df to only have rows past this point (the actual data), and then renamed the titles with the values in column_names. As you can see, our dataset looks much better. However, I will now note that columns 13 through 17 are for Passing stats, 18 through 20 are Rushing Stats, 21 through 23 are Recieving stats, and 24 through 26 are defensive stats."
   ]
  },
  {
   "cell_type": "code",
   "execution_count": 161,
   "metadata": {},
   "outputs": [],
   "source": [
    "column_names = df.iloc[0]\n",
    "df = df[1:]\n",
    "df.columns = column_names"
   ]
  },
  {
   "cell_type": "code",
   "execution_count": 162,
   "metadata": {},
   "outputs": [
    {
     "data": {
      "text/html": [
       "<div>\n",
       "<style scoped>\n",
       "    .dataframe tbody tr th:only-of-type {\n",
       "        vertical-align: middle;\n",
       "    }\n",
       "\n",
       "    .dataframe tbody tr th {\n",
       "        vertical-align: top;\n",
       "    }\n",
       "\n",
       "    .dataframe thead th {\n",
       "        text-align: right;\n",
       "    }\n",
       "</style>\n",
       "<table border=\"1\" class=\"dataframe\">\n",
       "  <thead>\n",
       "    <tr style=\"text-align: right;\">\n",
       "      <th></th>\n",
       "      <th>Rnd</th>\n",
       "      <th>Pick</th>\n",
       "      <th>Tm</th>\n",
       "      <th>Player</th>\n",
       "      <th>Pos</th>\n",
       "      <th>Age</th>\n",
       "      <th>To</th>\n",
       "      <th>AP1</th>\n",
       "      <th>PB</th>\n",
       "      <th>St</th>\n",
       "      <th>...</th>\n",
       "      <th>Yds</th>\n",
       "      <th>TD</th>\n",
       "      <th>Rec</th>\n",
       "      <th>Yds</th>\n",
       "      <th>TD</th>\n",
       "      <th>Solo</th>\n",
       "      <th>Int</th>\n",
       "      <th>Sk</th>\n",
       "      <th>College/Univ</th>\n",
       "      <th>NaN</th>\n",
       "    </tr>\n",
       "  </thead>\n",
       "  <tbody>\n",
       "    <tr>\n",
       "      <th>1</th>\n",
       "      <td>1</td>\n",
       "      <td>1</td>\n",
       "      <td>CAR</td>\n",
       "      <td>Bryce Young</td>\n",
       "      <td>QB</td>\n",
       "      <td>22</td>\n",
       "      <td>2023</td>\n",
       "      <td>0</td>\n",
       "      <td>0</td>\n",
       "      <td>0</td>\n",
       "      <td>...</td>\n",
       "      <td>253</td>\n",
       "      <td>0</td>\n",
       "      <td>0</td>\n",
       "      <td>0</td>\n",
       "      <td>0</td>\n",
       "      <td>NaN</td>\n",
       "      <td>NaN</td>\n",
       "      <td>NaN</td>\n",
       "      <td>Alabama</td>\n",
       "      <td>College Stats</td>\n",
       "    </tr>\n",
       "    <tr>\n",
       "      <th>2</th>\n",
       "      <td>1</td>\n",
       "      <td>2</td>\n",
       "      <td>HOU</td>\n",
       "      <td>C.J. Stroud</td>\n",
       "      <td>QB</td>\n",
       "      <td>21</td>\n",
       "      <td>2023</td>\n",
       "      <td>0</td>\n",
       "      <td>1</td>\n",
       "      <td>0</td>\n",
       "      <td>...</td>\n",
       "      <td>167</td>\n",
       "      <td>3</td>\n",
       "      <td>1</td>\n",
       "      <td>0</td>\n",
       "      <td>0</td>\n",
       "      <td>NaN</td>\n",
       "      <td>NaN</td>\n",
       "      <td>NaN</td>\n",
       "      <td>Ohio St.</td>\n",
       "      <td>College Stats</td>\n",
       "    </tr>\n",
       "    <tr>\n",
       "      <th>3</th>\n",
       "      <td>1</td>\n",
       "      <td>3</td>\n",
       "      <td>HOU</td>\n",
       "      <td>Will Anderson</td>\n",
       "      <td>LB</td>\n",
       "      <td>22</td>\n",
       "      <td>2023</td>\n",
       "      <td>0</td>\n",
       "      <td>1</td>\n",
       "      <td>0</td>\n",
       "      <td>...</td>\n",
       "      <td>0</td>\n",
       "      <td>0</td>\n",
       "      <td>0</td>\n",
       "      <td>0</td>\n",
       "      <td>0</td>\n",
       "      <td>29</td>\n",
       "      <td>NaN</td>\n",
       "      <td>7</td>\n",
       "      <td>Alabama</td>\n",
       "      <td>College Stats</td>\n",
       "    </tr>\n",
       "    <tr>\n",
       "      <th>4</th>\n",
       "      <td>1</td>\n",
       "      <td>4</td>\n",
       "      <td>IND</td>\n",
       "      <td>Anthony Richardson</td>\n",
       "      <td>QB</td>\n",
       "      <td>21</td>\n",
       "      <td>2023</td>\n",
       "      <td>0</td>\n",
       "      <td>0</td>\n",
       "      <td>0</td>\n",
       "      <td>...</td>\n",
       "      <td>136</td>\n",
       "      <td>4</td>\n",
       "      <td>0</td>\n",
       "      <td>0</td>\n",
       "      <td>0</td>\n",
       "      <td>NaN</td>\n",
       "      <td>NaN</td>\n",
       "      <td>NaN</td>\n",
       "      <td>Florida</td>\n",
       "      <td>College Stats</td>\n",
       "    </tr>\n",
       "    <tr>\n",
       "      <th>5</th>\n",
       "      <td>1</td>\n",
       "      <td>5</td>\n",
       "      <td>SEA</td>\n",
       "      <td>Devon Witherspoon</td>\n",
       "      <td>DB</td>\n",
       "      <td>22</td>\n",
       "      <td>2023</td>\n",
       "      <td>0</td>\n",
       "      <td>1</td>\n",
       "      <td>0</td>\n",
       "      <td>...</td>\n",
       "      <td>0</td>\n",
       "      <td>0</td>\n",
       "      <td>0</td>\n",
       "      <td>0</td>\n",
       "      <td>0</td>\n",
       "      <td>56</td>\n",
       "      <td>1</td>\n",
       "      <td>3</td>\n",
       "      <td>Illinois</td>\n",
       "      <td>College Stats</td>\n",
       "    </tr>\n",
       "  </tbody>\n",
       "</table>\n",
       "<p>5 rows × 29 columns</p>\n",
       "</div>"
      ],
      "text/plain": [
       "0 Rnd Pick   Tm              Player Pos Age    To AP1 PB St  ...  Yds TD Rec  \\\n",
       "1   1    1  CAR         Bryce Young  QB  22  2023   0  0  0  ...  253  0   0   \n",
       "2   1    2  HOU         C.J. Stroud  QB  21  2023   0  1  0  ...  167  3   1   \n",
       "3   1    3  HOU       Will Anderson  LB  22  2023   0  1  0  ...    0  0   0   \n",
       "4   1    4  IND  Anthony Richardson  QB  21  2023   0  0  0  ...  136  4   0   \n",
       "5   1    5  SEA   Devon Witherspoon  DB  22  2023   0  1  0  ...    0  0   0   \n",
       "\n",
       "0 Yds TD Solo  Int   Sk College/Univ            NaN  \n",
       "1   0  0  NaN  NaN  NaN      Alabama  College Stats  \n",
       "2   0  0  NaN  NaN  NaN     Ohio St.  College Stats  \n",
       "3   0  0   29  NaN    7      Alabama  College Stats  \n",
       "4   0  0  NaN  NaN  NaN      Florida  College Stats  \n",
       "5   0  0   56    1    3     Illinois  College Stats  \n",
       "\n",
       "[5 rows x 29 columns]"
      ]
     },
     "execution_count": 162,
     "metadata": {},
     "output_type": "execute_result"
    }
   ],
   "source": [
    "df.head(5)"
   ]
  },
  {
   "cell_type": "markdown",
   "metadata": {},
   "source": [
    "These are the actual columns for my dataset. However, not all are necessary and some are redundant."
   ]
  },
  {
   "cell_type": "code",
   "execution_count": 163,
   "metadata": {},
   "outputs": [
    {
     "data": {
      "text/plain": [
       "Index([         'Rnd',         'Pick',           'Tm',       'Player',\n",
       "                'Pos',          'Age',           'To',          'AP1',\n",
       "                 'PB',           'St',          'wAV',         'DrAV',\n",
       "                  'G',          'Cmp',          'Att',          'Yds',\n",
       "                 'TD',          'Int',          'Att',          'Yds',\n",
       "                 'TD',          'Rec',          'Yds',           'TD',\n",
       "               'Solo',          'Int',           'Sk', 'College/Univ',\n",
       "                  nan],\n",
       "      dtype='object', name=0)"
      ]
     },
     "execution_count": 163,
     "metadata": {},
     "output_type": "execute_result"
    }
   ],
   "source": [
    "df.columns"
   ]
  },
  {
   "cell_type": "markdown",
   "metadata": {},
   "source": [
    "My rename_columns function will allow me to differentiate between the redundant column titles as they are still useful for different anaylsis."
   ]
  },
  {
   "cell_type": "code",
   "execution_count": 164,
   "metadata": {},
   "outputs": [],
   "source": [
    "def rename_columns(df, target_column):\n",
    "    cols = []\n",
    "    count = 1\n",
    "    for column in df.columns:\n",
    "        if column == target_column:\n",
    "            cols.append(f'{target_column}_{count}')\n",
    "            count += 1\n",
    "            continue\n",
    "        cols.append(column)\n",
    "    df.columns = cols\n",
    "    return cols"
   ]
  },
  {
   "cell_type": "code",
   "execution_count": 165,
   "metadata": {},
   "outputs": [
    {
     "data": {
      "text/plain": [
       "['Rnd',\n",
       " 'Pick',\n",
       " 'Tm',\n",
       " 'Player',\n",
       " 'Pos',\n",
       " 'Age',\n",
       " 'To',\n",
       " 'AP1',\n",
       " 'PB',\n",
       " 'St',\n",
       " 'wAV',\n",
       " 'DrAV',\n",
       " 'G',\n",
       " 'Cmp',\n",
       " 'Att_1',\n",
       " 'Yds_1',\n",
       " 'TD_1',\n",
       " 'Int_1',\n",
       " 'Att_2',\n",
       " 'Yds_2',\n",
       " 'TD_2',\n",
       " 'Rec',\n",
       " 'Yds_3',\n",
       " 'TD_3',\n",
       " 'Solo',\n",
       " 'Int_2',\n",
       " 'Sk',\n",
       " 'College/Univ',\n",
       " nan]"
      ]
     },
     "execution_count": 165,
     "metadata": {},
     "output_type": "execute_result"
    }
   ],
   "source": [
    "rename_columns(df, 'Att')\n",
    "rename_columns(df, 'Yds')\n",
    "rename_columns(df, 'TD')\n",
    "rename_columns(df, 'Int')"
   ]
  },
  {
   "cell_type": "markdown",
   "metadata": {},
   "source": [
    "Now, I will make my data more concise and focus solely on the most relevant columns. For instance, some of the columns are irrelevant to rookies as they have only played one year in the NFL and need more time for those stats to be useful. I will get rid of those columns."
   ]
  },
  {
   "cell_type": "code",
   "execution_count": 166,
   "metadata": {},
   "outputs": [
    {
     "data": {
      "text/plain": [
       "Index([         'Rnd',         'Pick',           'Tm',       'Player',\n",
       "                'Pos',          'Age',            'G',          'Cmp',\n",
       "              'Att_1',        'Yds_1',         'TD_1',        'Int_1',\n",
       "              'Att_2',        'Yds_2',         'TD_2',          'Rec',\n",
       "              'Yds_3',         'TD_3',         'Solo',        'Int_2',\n",
       "                 'Sk', 'College/Univ',            nan],\n",
       "      dtype='object')"
      ]
     },
     "execution_count": 166,
     "metadata": {},
     "output_type": "execute_result"
    }
   ],
   "source": [
    "bad_columns = ['To', 'AP1', 'PB', 'St', 'wAV', 'DrAV']\n",
    "df.drop(columns=bad_columns, inplace=True)\n",
    "df.columns"
   ]
  },
  {
   "cell_type": "markdown",
   "metadata": {},
   "source": [
    "I also got rid of the nan columns that linked to the players college stats."
   ]
  },
  {
   "cell_type": "code",
   "execution_count": 167,
   "metadata": {},
   "outputs": [
    {
     "data": {
      "text/plain": [
       "Index(['Rnd', 'Pick', 'Tm', 'Player', 'Pos', 'Age', 'G', 'Cmp', 'Att_1',\n",
       "       'Yds_1', 'TD_1', 'Int_1', 'Att_2', 'Yds_2', 'TD_2', 'Rec', 'Yds_3',\n",
       "       'TD_3', 'Solo', 'Int_2', 'Sk', 'College/Univ'],\n",
       "      dtype='object')"
      ]
     },
     "execution_count": 167,
     "metadata": {},
     "output_type": "execute_result"
    }
   ],
   "source": [
    "df.drop(df.columns[-1], axis=1, inplace=True)\n",
    "df.columns"
   ]
  },
  {
   "cell_type": "markdown",
   "metadata": {},
   "source": [
    "This is the munged dataset."
   ]
  },
  {
   "cell_type": "code",
   "execution_count": 168,
   "metadata": {},
   "outputs": [
    {
     "data": {
      "text/html": [
       "<div>\n",
       "<style scoped>\n",
       "    .dataframe tbody tr th:only-of-type {\n",
       "        vertical-align: middle;\n",
       "    }\n",
       "\n",
       "    .dataframe tbody tr th {\n",
       "        vertical-align: top;\n",
       "    }\n",
       "\n",
       "    .dataframe thead th {\n",
       "        text-align: right;\n",
       "    }\n",
       "</style>\n",
       "<table border=\"1\" class=\"dataframe\">\n",
       "  <thead>\n",
       "    <tr style=\"text-align: right;\">\n",
       "      <th></th>\n",
       "      <th>Rnd</th>\n",
       "      <th>Pick</th>\n",
       "      <th>Tm</th>\n",
       "      <th>Player</th>\n",
       "      <th>Pos</th>\n",
       "      <th>Age</th>\n",
       "      <th>G</th>\n",
       "      <th>Cmp</th>\n",
       "      <th>Att_1</th>\n",
       "      <th>Yds_1</th>\n",
       "      <th>...</th>\n",
       "      <th>Att_2</th>\n",
       "      <th>Yds_2</th>\n",
       "      <th>TD_2</th>\n",
       "      <th>Rec</th>\n",
       "      <th>Yds_3</th>\n",
       "      <th>TD_3</th>\n",
       "      <th>Solo</th>\n",
       "      <th>Int_2</th>\n",
       "      <th>Sk</th>\n",
       "      <th>College/Univ</th>\n",
       "    </tr>\n",
       "  </thead>\n",
       "  <tbody>\n",
       "    <tr>\n",
       "      <th>1</th>\n",
       "      <td>1</td>\n",
       "      <td>1</td>\n",
       "      <td>CAR</td>\n",
       "      <td>Bryce Young</td>\n",
       "      <td>QB</td>\n",
       "      <td>22</td>\n",
       "      <td>16</td>\n",
       "      <td>315</td>\n",
       "      <td>527</td>\n",
       "      <td>2877</td>\n",
       "      <td>...</td>\n",
       "      <td>39</td>\n",
       "      <td>253</td>\n",
       "      <td>0</td>\n",
       "      <td>0</td>\n",
       "      <td>0</td>\n",
       "      <td>0</td>\n",
       "      <td>NaN</td>\n",
       "      <td>NaN</td>\n",
       "      <td>NaN</td>\n",
       "      <td>Alabama</td>\n",
       "    </tr>\n",
       "    <tr>\n",
       "      <th>2</th>\n",
       "      <td>1</td>\n",
       "      <td>2</td>\n",
       "      <td>HOU</td>\n",
       "      <td>C.J. Stroud</td>\n",
       "      <td>QB</td>\n",
       "      <td>21</td>\n",
       "      <td>15</td>\n",
       "      <td>319</td>\n",
       "      <td>499</td>\n",
       "      <td>4108</td>\n",
       "      <td>...</td>\n",
       "      <td>39</td>\n",
       "      <td>167</td>\n",
       "      <td>3</td>\n",
       "      <td>1</td>\n",
       "      <td>0</td>\n",
       "      <td>0</td>\n",
       "      <td>NaN</td>\n",
       "      <td>NaN</td>\n",
       "      <td>NaN</td>\n",
       "      <td>Ohio St.</td>\n",
       "    </tr>\n",
       "    <tr>\n",
       "      <th>3</th>\n",
       "      <td>1</td>\n",
       "      <td>3</td>\n",
       "      <td>HOU</td>\n",
       "      <td>Will Anderson</td>\n",
       "      <td>LB</td>\n",
       "      <td>22</td>\n",
       "      <td>15</td>\n",
       "      <td>0</td>\n",
       "      <td>0</td>\n",
       "      <td>0</td>\n",
       "      <td>...</td>\n",
       "      <td>0</td>\n",
       "      <td>0</td>\n",
       "      <td>0</td>\n",
       "      <td>0</td>\n",
       "      <td>0</td>\n",
       "      <td>0</td>\n",
       "      <td>29</td>\n",
       "      <td>NaN</td>\n",
       "      <td>7</td>\n",
       "      <td>Alabama</td>\n",
       "    </tr>\n",
       "    <tr>\n",
       "      <th>4</th>\n",
       "      <td>1</td>\n",
       "      <td>4</td>\n",
       "      <td>IND</td>\n",
       "      <td>Anthony Richardson</td>\n",
       "      <td>QB</td>\n",
       "      <td>21</td>\n",
       "      <td>4</td>\n",
       "      <td>50</td>\n",
       "      <td>84</td>\n",
       "      <td>577</td>\n",
       "      <td>...</td>\n",
       "      <td>25</td>\n",
       "      <td>136</td>\n",
       "      <td>4</td>\n",
       "      <td>0</td>\n",
       "      <td>0</td>\n",
       "      <td>0</td>\n",
       "      <td>NaN</td>\n",
       "      <td>NaN</td>\n",
       "      <td>NaN</td>\n",
       "      <td>Florida</td>\n",
       "    </tr>\n",
       "    <tr>\n",
       "      <th>5</th>\n",
       "      <td>1</td>\n",
       "      <td>5</td>\n",
       "      <td>SEA</td>\n",
       "      <td>Devon Witherspoon</td>\n",
       "      <td>DB</td>\n",
       "      <td>22</td>\n",
       "      <td>14</td>\n",
       "      <td>0</td>\n",
       "      <td>0</td>\n",
       "      <td>0</td>\n",
       "      <td>...</td>\n",
       "      <td>0</td>\n",
       "      <td>0</td>\n",
       "      <td>0</td>\n",
       "      <td>0</td>\n",
       "      <td>0</td>\n",
       "      <td>0</td>\n",
       "      <td>56</td>\n",
       "      <td>1</td>\n",
       "      <td>3</td>\n",
       "      <td>Illinois</td>\n",
       "    </tr>\n",
       "  </tbody>\n",
       "</table>\n",
       "<p>5 rows × 22 columns</p>\n",
       "</div>"
      ],
      "text/plain": [
       "  Rnd Pick   Tm              Player Pos Age   G  Cmp Att_1 Yds_1  ... Att_2  \\\n",
       "1   1    1  CAR         Bryce Young  QB  22  16  315   527  2877  ...    39   \n",
       "2   1    2  HOU         C.J. Stroud  QB  21  15  319   499  4108  ...    39   \n",
       "3   1    3  HOU       Will Anderson  LB  22  15    0     0     0  ...     0   \n",
       "4   1    4  IND  Anthony Richardson  QB  21   4   50    84   577  ...    25   \n",
       "5   1    5  SEA   Devon Witherspoon  DB  22  14    0     0     0  ...     0   \n",
       "\n",
       "  Yds_2 TD_2 Rec Yds_3 TD_3 Solo Int_2   Sk College/Univ  \n",
       "1   253    0   0     0    0  NaN   NaN  NaN      Alabama  \n",
       "2   167    3   1     0    0  NaN   NaN  NaN     Ohio St.  \n",
       "3     0    0   0     0    0   29   NaN    7      Alabama  \n",
       "4   136    4   0     0    0  NaN   NaN  NaN      Florida  \n",
       "5     0    0   0     0    0   56     1    3     Illinois  \n",
       "\n",
       "[5 rows x 22 columns]"
      ]
     },
     "execution_count": 168,
     "metadata": {},
     "output_type": "execute_result"
    }
   ],
   "source": [
    "df.head()"
   ]
  },
  {
   "cell_type": "code",
   "execution_count": 169,
   "metadata": {},
   "outputs": [
    {
     "data": {
      "text/plain": [
       "Rnd             object\n",
       "Pick            object\n",
       "Tm              object\n",
       "Player          object\n",
       "Pos             object\n",
       "Age             object\n",
       "G               object\n",
       "Cmp             object\n",
       "Att_1           object\n",
       "Yds_1           object\n",
       "TD_1            object\n",
       "Int_1           object\n",
       "Att_2           object\n",
       "Yds_2           object\n",
       "TD_2            object\n",
       "Rec             object\n",
       "Yds_3           object\n",
       "TD_3            object\n",
       "Solo            object\n",
       "Int_2           object\n",
       "Sk              object\n",
       "College/Univ    object\n",
       "dtype: object"
      ]
     },
     "execution_count": 169,
     "metadata": {},
     "output_type": "execute_result"
    }
   ],
   "source": [
    "df.dtypes"
   ]
  },
  {
   "cell_type": "markdown",
   "metadata": {},
   "source": [
    "I have to also change the data values into appropriate data types so I can do analysis."
   ]
  },
  {
   "cell_type": "code",
   "execution_count": 170,
   "metadata": {},
   "outputs": [],
   "source": [
    "num_columns = ['Rnd', 'Pick', 'Age', 'G', 'Cmp', 'Att_1', 'Yds_1', 'TD_1', 'Int_1',\n",
    "                      'Att_2', 'Yds_2', 'TD_2', 'Rec', 'Yds_3', 'TD_3', 'Solo', 'Int_2', 'Sk']\n",
    "df[columns_to_convert] = df[num_columns].apply(pd.to_numeric, errors='coerce')\n",
    "\n",
    "str_columns = ['Tm', 'Player', 'Pos', 'College/Univ']\n",
    "df[columns_to_string] = df[str_columns].astype(str)"
   ]
  },
  {
   "cell_type": "code",
   "execution_count": 171,
   "metadata": {},
   "outputs": [
    {
     "data": {
      "text/plain": [
       "Rnd               int64\n",
       "Pick              int64\n",
       "Tm               object\n",
       "Player           object\n",
       "Pos              object\n",
       "Age             float64\n",
       "G               float64\n",
       "Cmp             float64\n",
       "Att_1           float64\n",
       "Yds_1           float64\n",
       "TD_1            float64\n",
       "Int_1           float64\n",
       "Att_2           float64\n",
       "Yds_2           float64\n",
       "TD_2            float64\n",
       "Rec             float64\n",
       "Yds_3           float64\n",
       "TD_3            float64\n",
       "Solo            float64\n",
       "Int_2           float64\n",
       "Sk              float64\n",
       "College/Univ     object\n",
       "dtype: object"
      ]
     },
     "execution_count": 171,
     "metadata": {},
     "output_type": "execute_result"
    }
   ],
   "source": [
    "df.dtypes"
   ]
  },
  {
   "cell_type": "code",
   "execution_count": 172,
   "metadata": {},
   "outputs": [
    {
     "data": {
      "text/html": [
       "<div>\n",
       "<style scoped>\n",
       "    .dataframe tbody tr th:only-of-type {\n",
       "        vertical-align: middle;\n",
       "    }\n",
       "\n",
       "    .dataframe tbody tr th {\n",
       "        vertical-align: top;\n",
       "    }\n",
       "\n",
       "    .dataframe thead th {\n",
       "        text-align: right;\n",
       "    }\n",
       "</style>\n",
       "<table border=\"1\" class=\"dataframe\">\n",
       "  <thead>\n",
       "    <tr style=\"text-align: right;\">\n",
       "      <th></th>\n",
       "      <th>Rnd</th>\n",
       "      <th>Pick</th>\n",
       "      <th>Tm</th>\n",
       "      <th>Player</th>\n",
       "      <th>Pos</th>\n",
       "      <th>Age</th>\n",
       "      <th>G</th>\n",
       "      <th>Cmp</th>\n",
       "      <th>Att_1</th>\n",
       "      <th>Yds_1</th>\n",
       "      <th>...</th>\n",
       "      <th>Att_2</th>\n",
       "      <th>Yds_2</th>\n",
       "      <th>TD_2</th>\n",
       "      <th>Rec</th>\n",
       "      <th>Yds_3</th>\n",
       "      <th>TD_3</th>\n",
       "      <th>Solo</th>\n",
       "      <th>Int_2</th>\n",
       "      <th>Sk</th>\n",
       "      <th>College/Univ</th>\n",
       "    </tr>\n",
       "  </thead>\n",
       "  <tbody>\n",
       "    <tr>\n",
       "      <th>1</th>\n",
       "      <td>1</td>\n",
       "      <td>1</td>\n",
       "      <td>CAR</td>\n",
       "      <td>Bryce Young</td>\n",
       "      <td>QB</td>\n",
       "      <td>22.0</td>\n",
       "      <td>16.0</td>\n",
       "      <td>315.0</td>\n",
       "      <td>527.0</td>\n",
       "      <td>2877.0</td>\n",
       "      <td>...</td>\n",
       "      <td>39.0</td>\n",
       "      <td>253.0</td>\n",
       "      <td>0.0</td>\n",
       "      <td>0.0</td>\n",
       "      <td>0.0</td>\n",
       "      <td>0.0</td>\n",
       "      <td>NaN</td>\n",
       "      <td>NaN</td>\n",
       "      <td>NaN</td>\n",
       "      <td>Alabama</td>\n",
       "    </tr>\n",
       "    <tr>\n",
       "      <th>2</th>\n",
       "      <td>1</td>\n",
       "      <td>2</td>\n",
       "      <td>HOU</td>\n",
       "      <td>C.J. Stroud</td>\n",
       "      <td>QB</td>\n",
       "      <td>21.0</td>\n",
       "      <td>15.0</td>\n",
       "      <td>319.0</td>\n",
       "      <td>499.0</td>\n",
       "      <td>4108.0</td>\n",
       "      <td>...</td>\n",
       "      <td>39.0</td>\n",
       "      <td>167.0</td>\n",
       "      <td>3.0</td>\n",
       "      <td>1.0</td>\n",
       "      <td>0.0</td>\n",
       "      <td>0.0</td>\n",
       "      <td>NaN</td>\n",
       "      <td>NaN</td>\n",
       "      <td>NaN</td>\n",
       "      <td>Ohio St.</td>\n",
       "    </tr>\n",
       "    <tr>\n",
       "      <th>3</th>\n",
       "      <td>1</td>\n",
       "      <td>3</td>\n",
       "      <td>HOU</td>\n",
       "      <td>Will Anderson</td>\n",
       "      <td>LB</td>\n",
       "      <td>22.0</td>\n",
       "      <td>15.0</td>\n",
       "      <td>0.0</td>\n",
       "      <td>0.0</td>\n",
       "      <td>0.0</td>\n",
       "      <td>...</td>\n",
       "      <td>0.0</td>\n",
       "      <td>0.0</td>\n",
       "      <td>0.0</td>\n",
       "      <td>0.0</td>\n",
       "      <td>0.0</td>\n",
       "      <td>0.0</td>\n",
       "      <td>29.0</td>\n",
       "      <td>NaN</td>\n",
       "      <td>7.0</td>\n",
       "      <td>Alabama</td>\n",
       "    </tr>\n",
       "    <tr>\n",
       "      <th>4</th>\n",
       "      <td>1</td>\n",
       "      <td>4</td>\n",
       "      <td>IND</td>\n",
       "      <td>Anthony Richardson</td>\n",
       "      <td>QB</td>\n",
       "      <td>21.0</td>\n",
       "      <td>4.0</td>\n",
       "      <td>50.0</td>\n",
       "      <td>84.0</td>\n",
       "      <td>577.0</td>\n",
       "      <td>...</td>\n",
       "      <td>25.0</td>\n",
       "      <td>136.0</td>\n",
       "      <td>4.0</td>\n",
       "      <td>0.0</td>\n",
       "      <td>0.0</td>\n",
       "      <td>0.0</td>\n",
       "      <td>NaN</td>\n",
       "      <td>NaN</td>\n",
       "      <td>NaN</td>\n",
       "      <td>Florida</td>\n",
       "    </tr>\n",
       "    <tr>\n",
       "      <th>5</th>\n",
       "      <td>1</td>\n",
       "      <td>5</td>\n",
       "      <td>SEA</td>\n",
       "      <td>Devon Witherspoon</td>\n",
       "      <td>DB</td>\n",
       "      <td>22.0</td>\n",
       "      <td>14.0</td>\n",
       "      <td>0.0</td>\n",
       "      <td>0.0</td>\n",
       "      <td>0.0</td>\n",
       "      <td>...</td>\n",
       "      <td>0.0</td>\n",
       "      <td>0.0</td>\n",
       "      <td>0.0</td>\n",
       "      <td>0.0</td>\n",
       "      <td>0.0</td>\n",
       "      <td>0.0</td>\n",
       "      <td>56.0</td>\n",
       "      <td>1.0</td>\n",
       "      <td>3.0</td>\n",
       "      <td>Illinois</td>\n",
       "    </tr>\n",
       "  </tbody>\n",
       "</table>\n",
       "<p>5 rows × 22 columns</p>\n",
       "</div>"
      ],
      "text/plain": [
       "   Rnd  Pick   Tm              Player Pos   Age     G    Cmp  Att_1   Yds_1  \\\n",
       "1    1     1  CAR         Bryce Young  QB  22.0  16.0  315.0  527.0  2877.0   \n",
       "2    1     2  HOU         C.J. Stroud  QB  21.0  15.0  319.0  499.0  4108.0   \n",
       "3    1     3  HOU       Will Anderson  LB  22.0  15.0    0.0    0.0     0.0   \n",
       "4    1     4  IND  Anthony Richardson  QB  21.0   4.0   50.0   84.0   577.0   \n",
       "5    1     5  SEA   Devon Witherspoon  DB  22.0  14.0    0.0    0.0     0.0   \n",
       "\n",
       "   ...  Att_2  Yds_2  TD_2  Rec  Yds_3  TD_3  Solo  Int_2   Sk  College/Univ  \n",
       "1  ...   39.0  253.0   0.0  0.0    0.0   0.0   NaN    NaN  NaN       Alabama  \n",
       "2  ...   39.0  167.0   3.0  1.0    0.0   0.0   NaN    NaN  NaN      Ohio St.  \n",
       "3  ...    0.0    0.0   0.0  0.0    0.0   0.0  29.0    NaN  7.0       Alabama  \n",
       "4  ...   25.0  136.0   4.0  0.0    0.0   0.0   NaN    NaN  NaN       Florida  \n",
       "5  ...    0.0    0.0   0.0  0.0    0.0   0.0  56.0    1.0  3.0      Illinois  \n",
       "\n",
       "[5 rows x 22 columns]"
      ]
     },
     "execution_count": 172,
     "metadata": {},
     "output_type": "execute_result"
    }
   ],
   "source": [
    "df.head()"
   ]
  },
  {
   "cell_type": "markdown",
   "metadata": {},
   "source": [
    "## Data analysis\n",
    "Place your **data analysis** code and documentation within this section.\n",
    "- Perform at least 5 different statistical or other analyses of different aspects of the data.\n",
    "    - Your analyses must be specific and relevant to your chosen data set and show interesting aspects of it.\n",
    "    - Include at least one analysis that includes grouping rows by a shared attribute and performing some kind of statistical analysis on each group.\n",
    "    - Sort the data in at least 1 of your analyses, but sort on its own does not constitute an analysis on its own.\n",
    "- Keep each of your Code cells short and focused on a single task.\n",
    "- Include a Markdown cell above each Code cell that describes what task the code within the Code cell is performing.\n",
    "- Make as many code cells as you need to complete the analysis - a few have been created for you to start with."
   ]
  },
  {
   "cell_type": "markdown",
   "metadata": {},
   "source": [
    "Which college had the most recivers"
   ]
  },
  {
   "cell_type": "markdown",
   "metadata": {},
   "source": [
    "### Age"
   ]
  },
  {
   "cell_type": "code",
   "execution_count": 103,
   "metadata": {},
   "outputs": [
    {
     "name": "stdout",
     "output_type": "stream",
     "text": [
      "22.670542635658915\n"
     ]
    }
   ],
   "source": [
    "avg_age = df['Age'].mean()\n",
    "print(avg_age)"
   ]
  },
  {
   "cell_type": "code",
   "execution_count": 113,
   "metadata": {},
   "outputs": [
    {
     "name": "stdout",
     "output_type": "stream",
     "text": [
      "20.0\n",
      "25.0\n"
     ]
    }
   ],
   "source": [
    "min_age = df['Age'].min()\n",
    "max_age = df['Age'].max()\n",
    "print(min_age)\n",
    "print(max_age)"
   ]
  },
  {
   "cell_type": "markdown",
   "metadata": {},
   "source": [
    "The average age for an NFL Draftee is about 22.67 years old. This makes sense as most people tend to play a few years in college before declaring for the NFL draft. The youngest draftee was 20, and the oldest was 25."
   ]
  },
  {
   "cell_type": "markdown",
   "metadata": {},
   "source": [
    "### Position"
   ]
  },
  {
   "cell_type": "code",
   "execution_count": 111,
   "metadata": {},
   "outputs": [
    {
     "name": "stdout",
     "output_type": "stream",
     "text": [
      "OL     39\n",
      "DB     34\n",
      "WR     33\n",
      "DL     20\n",
      "LB     18\n",
      "RB     18\n",
      "CB     16\n",
      "TE     15\n",
      "DE     15\n",
      "QB     14\n",
      "DT     12\n",
      "S       8\n",
      "OLB     6\n",
      "K       3\n",
      "P       3\n",
      "C       2\n",
      "T       1\n",
      "NT      1\n",
      "G       1\n",
      "Name: Pos, dtype: int64\n"
     ]
    }
   ],
   "source": [
    "position_breakdown = df['Pos'].value_counts()\n",
    "print(position_breakdown)"
   ]
  },
  {
   "cell_type": "code",
   "execution_count": 117,
   "metadata": {},
   "outputs": [
    {
     "name": "stdout",
     "output_type": "stream",
     "text": [
      "Pos\n",
      "NT     2.000000\n",
      "T      2.000000\n",
      "OLB    3.166667\n",
      "DL     3.350000\n",
      "C      3.500000\n",
      "TE     3.600000\n",
      "QB     3.785714\n",
      "DE     3.800000\n",
      "G      4.000000\n",
      "LB     4.055556\n",
      "OL     4.230769\n",
      "WR     4.242424\n",
      "K      4.333333\n",
      "DB     4.352941\n",
      "RB     4.388889\n",
      "CB     5.000000\n",
      "DT     5.083333\n",
      "S      5.625000\n",
      "P      6.333333\n",
      "Name: Rnd, dtype: float64\n"
     ]
    }
   ],
   "source": [
    "avg_rd_pos = df.groupby('Pos')['Rnd'].mean().sort_values()\n",
    "print(avg_rd_pos)"
   ]
  },
  {
   "cell_type": "markdown",
   "metadata": {},
   "source": [
    "The most sought after positions were offensive linemen, and the least sought after were punters and kickers. This aligns with current trends in the NFL as there seems to be a shortage of servicable linemen, as reflected by rising contract values for successful offensive linemen. However, it seems that defensive linemen are drafted higher, on average."
   ]
  },
  {
   "cell_type": "code",
   "execution_count": 120,
   "metadata": {},
   "outputs": [
    {
     "name": "stdout",
     "output_type": "stream",
     "text": [
      "Average Receptions for WR: 33.03225806451613\n",
      "Average Yards for WR: 404.5483870967742\n",
      "Average Touchdowns for WR: 2.5161290322580645\n"
     ]
    }
   ],
   "source": [
    "wr_data = df[df['Pos'] == 'WR']\n",
    "\n",
    "avg_rec = wr_data['Rec'].mean()\n",
    "avg_yds = wr_data['Yds_3'].mean()\n",
    "avg_td = wr_data['TD_3'].mean()\n",
    "\n",
    "print(\"Average Receptions for WR:\", avg_rec)\n",
    "print(\"Average Yards for WR:\", avg_yds)\n",
    "print(\"Average Touchdowns for WR:\", avg_td)"
   ]
  },
  {
   "cell_type": "markdown",
   "metadata": {},
   "source": [
    "As the NFL becomes more offensively minded, more and more recievers are drafted every year with higher draft capital. This is how the average rookie receiver performs."
   ]
  },
  {
   "cell_type": "code",
   "execution_count": 123,
   "metadata": {},
   "outputs": [
    {
     "name": "stdout",
     "output_type": "stream",
     "text": [
      "Receiver with the most yards: Puka Nacua with 1486.0 yards\n",
      "Receiver with the most touchdowns: Jordan Addison with 10.0 touchdowns\n"
     ]
    }
   ],
   "source": [
    "rec_yds = wr_data.loc[wr_data['Yds_3'].idxmax()]['Player']\n",
    "max_yds = wr_data['Yds_3'].max()\n",
    "\n",
    "rec_td = wr_data.loc[wr_data['TD_3'].idxmax()]['Player']\n",
    "max_td = wr_data['TD_3'].max()\n",
    "\n",
    "print(\"Receiver with the most yards:\", rec_yds, \"with\", max_yds, \"yards\")\n",
    "print(\"Receiver with the most touchdowns:\", rec_td, \"with\", max_td, \"touchdowns\")"
   ]
  },
  {
   "cell_type": "markdown",
   "metadata": {},
   "source": [
    "These rookie receivers seem to be a cut above the rest."
   ]
  },
  {
   "cell_type": "markdown",
   "metadata": {},
   "source": [
    "### College"
   ]
  },
  {
   "cell_type": "code",
   "execution_count": 118,
   "metadata": {},
   "outputs": [
    {
     "name": "stdout",
     "output_type": "stream",
     "text": [
      "Alabama             10\n",
      "Georgia             10\n",
      "Michigan             9\n",
      "TCU                  8\n",
      "Florida              6\n",
      "                    ..\n",
      "North Dakota St.     1\n",
      "William & Mary       1\n",
      "South Alabama        1\n",
      "California           1\n",
      "Toledo               1\n",
      "Name: College/Univ, Length: 95, dtype: int64\n"
     ]
    }
   ],
   "source": [
    "college_breakdown = df['College/Univ'].value_counts()\n",
    "print(college_breakdown)"
   ]
  },
  {
   "cell_type": "markdown",
   "metadata": {},
   "source": [
    "The college programs that had the most draftees in 2023 were Alabama and Georgia."
   ]
  },
  {
   "cell_type": "code",
   "execution_count": 173,
   "metadata": {},
   "outputs": [
    {
     "name": "stdout",
     "output_type": "stream",
     "text": [
      "College with the most receivers: Cincinnati\n",
      "Number of receivers drafted from this college: 2\n"
     ]
    }
   ],
   "source": [
    "college_receiver_count = wr_data.groupby('College/Univ').size()\n",
    "most_receivers_college = college_receiver_count.idxmax()\n",
    "num_receivers = college_receiver_count.max()\n",
    "\n",
    "print(\"College with the most receivers:\", most_receivers_college)\n",
    "print(\"Number of receivers drafted from this college:\", num_receivers)"
   ]
  },
  {
   "cell_type": "markdown",
   "metadata": {},
   "source": [
    "The college with the most receivers drafted was Cincinnati University!"
   ]
  },
  {
   "cell_type": "markdown",
   "metadata": {},
   "source": [
    "## Data visualization\n",
    "In this section, you will create a few **visualizations** that show some of the insights you have gathered from this data.\n",
    "- Create at least 5 different visualizations, where each visualization shows different insights into the data.\n",
    "- Use at least 3 different visualization types (e.g. bar charts, line charts, stacked area charts, pie charts, etc)\n",
    "- Create a Markdown cell and a Code cell for each, where you explain and show the visualizations, respectively.\n",
    "- Create as many additional cells as you need to prepare the data for the visualizations."
   ]
  },
  {
   "cell_type": "code",
   "execution_count": 174,
   "metadata": {},
   "outputs": [
    {
     "data": {
      "image/png": "[encoded data removed]",
      "text/plain": [
       "<Figure size 720x432 with 1 Axes>"
      ]
     },
     "metadata": {
      "needs_background": "light"
     },
     "output_type": "display_data"
    }
   ],
   "source": [
    "colors = plt.get_cmap('tab20')(range(len(avg_rd_pos)))\n",
    "plt.figure(figsize=(10, 6))\n",
    "position_breakdown.plot(kind='bar', color=colors)\n",
    "plt.title('Distribution of Selections by Position')\n",
    "plt.xlabel('Position')\n",
    "plt.ylabel('Count')\n",
    "plt.xticks(rotation=45, ha='right')\n",
    "plt.grid(axis='y', linestyle='--', alpha=0.7)\n",
    "plt.tight_layout()\n",
    "plt.show()"
   ]
  },
  {
   "cell_type": "markdown",
   "metadata": {},
   "source": [
    "This box plot shows us the distribution of positions selected within the 2023 NFL draft."
   ]
  },
  {
   "cell_type": "code",
   "execution_count": 175,
   "metadata": {},
   "outputs": [
    {
     "data": {
      "text/plain": [
       "<Figure size 1440x1152 with 0 Axes>"
      ]
     },
     "metadata": {},
     "output_type": "display_data"
    },
    {
     "data": {
      "image/png": "[encoded data removed]",
      "text/plain": [
       "<Figure size 432x288 with 1 Axes>"
      ]
     },
     "metadata": {
      "needs_background": "light"
     },
     "output_type": "display_data"
    }
   ],
   "source": [
    "draft_picks_cross = pd.crosstab(df['Pos'], df['Rnd'])\n",
    "\n",
    "plt.figure(figsize=(20, 16))\n",
    "draft_picks_cross.plot(kind='bar', stacked=True)\n",
    "plt.title('Breakdown of Draft Picks by Position and Round')\n",
    "plt.xlabel('Position')\n",
    "plt.ylabel('Number of Draft Picks')\n",
    "plt.xticks(rotation=45, ha='right')\n",
    "plt.legend(title='Round', bbox_to_anchor=(1, 1), loc='upper left')\n",
    "plt.grid(axis='y', linestyle='--', alpha=0.7)\n",
    "plt.tight_layout()\n",
    "plt.show()"
   ]
  },
  {
   "cell_type": "markdown",
   "metadata": {},
   "source": [
    "This stacked bar plot gives further insight to the distribution of the round selected within each position. "
   ]
  },
  {
   "cell_type": "code",
   "execution_count": 176,
   "metadata": {},
   "outputs": [
    {
     "data": {
      "image/png": "[encoded data removed]",
      "text/plain": [
       "<Figure size 576x576 with 1 Axes>"
      ]
     },
     "metadata": {},
     "output_type": "display_data"
    }
   ],
   "source": [
    "top_20_colleges = college_breakdown.head(15)\n",
    "\n",
    "plt.figure(figsize=(8, 8))\n",
    "top_20_colleges.plot(kind='pie', autopct='%1.1f%%', startangle=140)\n",
    "plt.title('Top 15 Colleges/Universities with the Most Drafted Players')\n",
    "plt.ylabel('')\n",
    "plt.axis('equal')\n",
    "plt.show()"
   ]
  },
  {
   "cell_type": "markdown",
   "metadata": {},
   "source": [
    "This pie chart demonstrates the distribution of college programs represented within the player selections. Only the top 15 are shown for visiblity purposes."
   ]
  },
  {
   "cell_type": "code",
   "execution_count": 177,
   "metadata": {},
   "outputs": [
    {
     "data": {
      "image/png": "[encoded data removed]",
      "text/plain": [
       "<Figure size 720x432 with 1 Axes>"
      ]
     },
     "metadata": {
      "needs_background": "light"
     },
     "output_type": "display_data"
    }
   ],
   "source": [
    "filtered_df = df.dropna(subset=['Age'])\n",
    "\n",
    "# Create a box plot for the 'Age' column\n",
    "plt.figure(figsize=(10, 6))\n",
    "plt.boxplot(filtered_df['Age'], vert=False, patch_artist=True, boxprops=dict(facecolor='skyblue', color='black'),\n",
    "            whiskerprops=dict(color='black', linestyle='--'), medianprops=dict(color='red', linewidth=2))\n",
    "plt.title('Distribution of Ages of Drafted Players')\n",
    "plt.xlabel('Age')\n",
    "plt.grid(axis='x', linestyle='--', alpha=0.7)\n",
    "plt.show()"
   ]
  },
  {
   "cell_type": "markdown",
   "metadata": {},
   "source": [
    "This box plot shows the distribution of the ages of the rookies selected within the NFL draft. The two outliers are left as dots, and the mean is shown by the red line."
   ]
  },
  {
   "cell_type": "code",
   "execution_count": 179,
   "metadata": {},
   "outputs": [
    {
     "data": {
      "image/png": "[encoded data removed]",
      "text/plain": [
       "<Figure size 720x432 with 1 Axes>"
      ]
     },
     "metadata": {
      "needs_background": "light"
     },
     "output_type": "display_data"
    }
   ],
   "source": [
    "colors = sns.color_palette(\"husl\", len(wr_data['Rnd'].unique()))\n",
    "\n",
    "plt.figure(figsize=(10, 6))\n",
    "sns.violinplot(x='Rnd', y='Yds_3', data=wr_data, palette=colors)\n",
    "plt.title('Violin Plot: Draft Round vs. Receiving Yards for Wide Receivers')\n",
    "plt.xlabel('Draft Round')\n",
    "plt.ylabel('Receiving Yards')\n",
    "plt.grid(True, linestyle='--', alpha=0.5)\n",
    "plt.show()"
   ]
  },
  {
   "cell_type": "markdown",
   "metadata": {},
   "source": [
    "For the final graph, I used Seaborn to create a violin plot to show how various recievers did their rookie season depending on the round they were drafted in. The 5th round is misconstrued by the performance of Puka Nakua, but the overall trend seems to confirm the idea that drafting recievers higher leads to better production."
   ]
  }
 ],
 "metadata": {
  "kernelspec": {
   "display_name": "Python 3 (ipykernel)",
   "language": "python",
   "name": "python3"
  },
  "language_info": {
   "codemirror_mode": {
    "name": "ipython",
    "version": 3
   },
   "file_extension": ".py",
   "mimetype": "text/x-python",
   "name": "python",
   "nbconvert_exporter": "python",
   "pygments_lexer": "ipython3",
   "version": "3.9.12"
  }
 },
 "nbformat": 4,
 "nbformat_minor": 4
}
